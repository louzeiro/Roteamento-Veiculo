{
  "nbformat": 4,
  "nbformat_minor": 0,
  "metadata": {
    "colab": {
      "name": "Ortools_TSP.ipynb",
      "provenance": [],
      "collapsed_sections": [
        "-8P90Kkn6ORk"
      ],
      "authorship_tag": "ABX9TyMRwjlufvP1J1Div8myQfVR",
      "include_colab_link": true
    },
    "kernelspec": {
      "name": "python3",
      "display_name": "Python 3"
    },
    "language_info": {
      "name": "python"
    }
  },
  "cells": [
    {
      "cell_type": "markdown",
      "metadata": {
        "id": "view-in-github",
        "colab_type": "text"
      },
      "source": [
        "<a href=\"https://colab.research.google.com/github/louzeiro/Roteamento-Veiculo/blob/main/Ortools_TSP.ipynb\" target=\"_parent\"><img src=\"https://colab.research.google.com/assets/colab-badge.svg\" alt=\"Open In Colab\"/></a>"
      ]
    },
    {
      "cell_type": "markdown",
      "source": [
        "Notebook desenvolvido durante os estudos da ferramenta Or-Tools<br>\n",
        "Seção: Roteamento<br>\n",
        "Subseção: Traveling Routing Problem\n",
        "\n",
        "\n",
        "Fonte: https://developers.google.com/optimization/routing/tsp\n"
      ],
      "metadata": {
        "id": "VuXbeEhN4O_0"
      }
    },
    {
      "cell_type": "markdown",
      "source": [
        "# Definição do problema"
      ],
      "metadata": {
        "id": "-8P90Kkn6ORk"
      }
    },
    {
      "cell_type": "markdown",
      "source": [
        "Nesta seção foi apresentada a implementação para a solução do problema do caixeiro viajante com o Or-Tools. No exemplo de uso, foi definido o conjunto de pontos do problema, conforme a imagem abaixo.\n",
        "<p>\n",
        "  <a href=\"exemplo\">\n",
        "    <img src=\"https://developers.google.com/optimization/images/routing/tsp_map.png\">\n",
        "  </a>\n",
        "</p>\n"
      ],
      "metadata": {
        "id": "Ob2DYE4l4uke"
      }
    },
    {
      "cell_type": "markdown",
      "source": [
        "# Conjunto de dados"
      ],
      "metadata": {
        "id": "dXwAF3S66KPk"
      }
    },
    {
      "cell_type": "code",
      "execution_count": null,
      "metadata": {
        "id": "dAjY1Bhv4JmQ"
      },
      "outputs": [],
      "source": [
        "\"\"\"\n",
        " Dados do problema: conjunto das distâncias entre os pontos, incluindo o\n",
        " deposito. Nesse caso, não há diferênça no percurso de ida e volta.\n",
        " O ponto de partida e de chegada será o depósito.\n",
        "\"\"\"\n",
        "def create_data_model():\n",
        "    data = {} \n",
        "    data['distance_matrix'] = [ # matriz de distância entre os pontos\n",
        "        [0, 2451, 713, 1018, 1631, 1374, 2408, 213, 2571, 875, 1420, 2145, 1972], # ponto 1\n",
        "        [2451, 0, 1745, 1524, 831, 1240, 959, 2596, 403, 1589, 1374, 357, 579],   # ponto 2\n",
        "        [713, 1745, 0, 355, 920, 803, 1737, 851, 1858, 262, 940, 1453, 1260],     # ponto 3\n",
        "        [1018, 1524, 355, 0, 700, 862, 1395, 1123, 1584, 466, 1056, 1280, 987],   # ponto 4\n",
        "        [1631, 831, 920, 700, 0, 663, 1021, 1769, 949, 796, 879, 586, 371],       # ponto 5\n",
        "        [1374, 1240, 803, 862, 663, 0, 1681, 1551, 1765, 547, 225, 887, 999],     # ponto 6\n",
        "        [2408, 959, 1737, 1395, 1021, 1681, 0, 2493, 678, 1724, 1891, 1114, 701], # ponto 7\n",
        "        [213, 2596, 851, 1123, 1769, 1551, 2493, 0, 2699, 1038, 1605, 2300, 2099],# ponto 8\n",
        "        [2571, 403, 1858, 1584, 949, 1765, 678, 2699, 0, 1744, 1645, 653, 600],   # ponto 9\n",
        "        [875, 1589, 262, 466, 796, 547, 1724, 1038, 1744, 0, 679, 1272, 1162],    # ponto 10\n",
        "        [1420, 1374, 940, 1056, 879, 225, 1891, 1605, 1645, 679, 0, 1017, 1200],  # ponto 11\n",
        "        [2145, 357, 1453, 1280, 586, 887, 1114, 2300, 653, 1272, 1017, 0, 504],   # ponto 12\n",
        "        [1972, 579, 1260, 987, 371, 999, 701, 2099, 600, 1162, 1200, 504, 0],     # ponto 13\n",
        "    ]  \n",
        "    data['num_vehicles'] = 1 # total de veículos usados na solução\n",
        "    data['depot'] = 0        # identificação da origem, nesse caso o depósito\n",
        "    return data"
      ]
    },
    {
      "cell_type": "markdown",
      "source": [
        "# Definindo o modelo de roteamento"
      ],
      "metadata": {
        "id": "bwAyvEPp4KUE"
      }
    },
    {
      "cell_type": "code",
      "source": [
        "#import os\n",
        "#os.system('pip install ortools') #instalando a biblioteca no ambiente de desenvolvimento\n",
        "\n",
        "from ortools.constraint_solver import pywrapcp \n",
        "data = create_data_model()                                           # carregando os dados do problema\n",
        "manager = pywrapcp.RoutingIndexManager(len(data['distance_matrix']), # número de pontos\n",
        "                                       data['num_vehicles'],         # total de veículos/caixeiros  \n",
        "                                       data['depot'])                # índece da origem/depósito\n",
        "routing = pywrapcp.RoutingModel(manager)                             # criando o modelo\n"
      ],
      "metadata": {
        "id": "pn1oOoYB7IU-"
      },
      "execution_count": null,
      "outputs": []
    },
    {
      "cell_type": "markdown",
      "source": [
        "# Defindo a função que retornará a distância entre dois pontos\n",
        "\n",
        "Essa função é necessária, pois o Ortools trabalha com um sistema diferente de referência."
      ],
      "metadata": {
        "id": "XuLLfWvW9GlV"
      }
    },
    {
      "cell_type": "code",
      "source": [
        "\"\"\"Retorna a distância entre os pontos\"\"\"\n",
        "def distance_callback(from_index, to_index):\n",
        "  from_node = manager.IndexToNode(from_index)   # convertendo o index interno do ortools\n",
        "  to_node = manager.IndexToNode(to_index)       # para o index de acesso à matrix\n",
        "  return data['distance_matrix'][from_node][to_node]\n",
        "\n",
        "\"\"\"Realiza a chamada e a registra no solve \"\"\"\n",
        "transit_callback_index = routing.RegisterTransitCallback(distance_callback)"
      ],
      "metadata": {
        "id": "9Z1yHu809_lN"
      },
      "execution_count": null,
      "outputs": []
    },
    {
      "cell_type": "code",
      "source": [
        "data['distance_matrix'][1][2]"
      ],
      "metadata": {
        "colab": {
          "base_uri": "https://localhost:8080/"
        },
        "id": "xMPidYry-wnW",
        "outputId": "27a45a96-3919-4a55-bb00-532ced353478"
      },
      "execution_count": null,
      "outputs": [
        {
          "output_type": "execute_result",
          "data": {
            "text/plain": [
              "1745"
            ]
          },
          "metadata": {},
          "execution_count": 9
        }
      ]
    },
    {
      "cell_type": "markdown",
      "source": [
        "# Definindo o custo\n",
        "\n",
        "Neste exemplo será utilizado a distância entre os pontos como o custo do problema. Assim, será utilizada a variável *transit_callback_index* que é a referência interna do solve para a função *distance_callback*, que retorna a distância."
      ],
      "metadata": {
        "id": "xRdvtmw1B0iG"
      }
    },
    {
      "cell_type": "code",
      "source": [
        "routing.SetArcCostEvaluatorOfAllVehicles(transit_callback_index)"
      ],
      "metadata": {
        "id": "xF8DLunKBzuV"
      },
      "execution_count": null,
      "outputs": []
    },
    {
      "cell_type": "markdown",
      "source": [
        "# Definindo os parâmetros e a Heurística da solução\n"
      ],
      "metadata": {
        "id": "3L5dv3i4EFAU"
      }
    },
    {
      "cell_type": "code",
      "source": [
        "from ortools.constraint_solver import routing_enums_pb2\n",
        "\n",
        "search_parameters = pywrapcp.DefaultRoutingSearchParameters()\n",
        "search_parameters.first_solution_strategy = (\n",
        "    routing_enums_pb2.FirstSolutionStrategy.PATH_CHEAPEST_ARC)"
      ],
      "metadata": {
        "id": "DRpceMoNEJr0"
      },
      "execution_count": null,
      "outputs": []
    },
    {
      "cell_type": "markdown",
      "source": [
        "# Exibindo os resultados obtidos"
      ],
      "metadata": {
        "id": "gCLyQMiJGfXN"
      }
    },
    {
      "cell_type": "code",
      "source": [
        "def print_solution(manager, routing, solution):\n",
        "    \"\"\"Prints solution on console.\"\"\"\n",
        "    print('Custo da solução: {} metros'.format(solution.ObjectiveValue()))\n",
        "    index = routing.Start(0)\n",
        "    plan_output = 'Rota para o veículo 0:\\n'\n",
        "    route_distance = 0\n",
        "    while not routing.IsEnd(index):\n",
        "        plan_output += ' {} ->'.format(manager.IndexToNode(index))\n",
        "        previous_index = index\n",
        "        index = solution.Value(routing.NextVar(index))\n",
        "        route_distance += routing.GetArcCostForVehicle(previous_index, index, 0)\n",
        "    plan_output += ' {}\\n'.format(manager.IndexToNode(index))\n",
        "    plan_output += 'Rota para a distância percorrida: {} metros\\n'.format(route_distance)\n",
        "\n",
        "    print(plan_output)"
      ],
      "metadata": {
        "id": "srBl-UIJGlCp"
      },
      "execution_count": null,
      "outputs": []
    },
    {
      "cell_type": "markdown",
      "source": [
        "# Main"
      ],
      "metadata": {
        "id": "DHMijt86Ifs0"
      }
    },
    {
      "cell_type": "code",
      "source": [
        "solution = routing.SolveWithParameters(search_parameters)\n",
        "\n",
        "if solution:\n",
        "    print_solution(manager, routing, solution)"
      ],
      "metadata": {
        "colab": {
          "base_uri": "https://localhost:8080/"
        },
        "id": "RqegRVsRIhE1",
        "outputId": "cafdf458-bc03-4943-da5a-e59d84b139b4"
      },
      "execution_count": null,
      "outputs": [
        {
          "output_type": "stream",
          "name": "stdout",
          "text": [
            "Custo da solução: 7569 metros\n",
            "Rota para o veículo 0:\n",
            " 0 -> 7 -> 2 -> 3 -> 6 -> 8 -> 1 -> 11 -> 12 -> 4 -> 5 -> 10 -> 9 -> 0\n",
            "Rota para a distância percorrida: 7569 metros\n",
            "\n"
          ]
        }
      ]
    },
    {
      "cell_type": "markdown",
      "source": [
        "# Salvando as rotas em um array"
      ],
      "metadata": {
        "id": "H5MRHoEwIoT-"
      }
    },
    {
      "cell_type": "code",
      "source": [
        "def get_routes(solution, routing, manager):\n",
        "  routes = [] \n",
        "  for route_nbr in range(routing.vehicles()): # para cada veículo do conjunto de rotas\n",
        "    index = routing.Start(route_nbr)      # Ponto de partida (depósito)\n",
        "    route = [manager.IndexToNode(index)]  # Convertende e adicionando o index no array\n",
        "    while not routing.IsEnd(index):       # Enquanto não for o último índice\n",
        "      index = solution.Value(routing.NextVar(index))\n",
        "      route.append(manager.IndexToNode(index)) \n",
        "    routes.append(route)\n",
        "  return routes\n",
        "\n",
        "#exibindo a rota final\n",
        "routes = get_routes(solution, routing, manager)\n",
        "for i, route in enumerate(routes):\n",
        "  print('Rota obtida com a solução para o veículo', i,'=', route)"
      ],
      "metadata": {
        "colab": {
          "base_uri": "https://localhost:8080/"
        },
        "id": "xJ_YpD8QIs5V",
        "outputId": "d9bf7115-e683-4c9b-eaf2-b505c7d1bcb4"
      },
      "execution_count": null,
      "outputs": [
        {
          "output_type": "stream",
          "name": "stdout",
          "text": [
            "Rota obtida com a solução para o veículo 0 = [0, 7, 2, 3, 6, 8, 1, 11, 12, 4, 5, 10, 9, 0]\n"
          ]
        }
      ]
    }
  ]
}