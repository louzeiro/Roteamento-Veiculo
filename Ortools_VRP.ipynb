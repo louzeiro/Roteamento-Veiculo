{
  "nbformat": 4,
  "nbformat_minor": 0,
  "metadata": {
    "colab": {
      "name": "Ortools_VRP.ipynb",
      "provenance": [],
      "collapsed_sections": [
        "-8P90Kkn6ORk"
      ],
      "authorship_tag": "ABX9TyNQSIgoZDgACe2xX1JEUynJ",
      "include_colab_link": true
    },
    "kernelspec": {
      "name": "python3",
      "display_name": "Python 3"
    },
    "language_info": {
      "name": "python"
    }
  },
  "cells": [
    {
      "cell_type": "markdown",
      "metadata": {
        "id": "view-in-github",
        "colab_type": "text"
      },
      "source": [
        "<a href=\"https://colab.research.google.com/github/louzeiro/Roteamento-Veiculo/blob/main/Ortools_VRP.ipynb\" target=\"_parent\"><img src=\"https://colab.research.google.com/assets/colab-badge.svg\" alt=\"Open In Colab\"/></a>"
      ]
    },
    {
      "cell_type": "markdown",
      "source": [
        "Notebook desenvolvido durante os estudos da ferramenta Or-Tools<br>\n",
        "Seção: Roteamento<br>\n",
        "Subseção: Vehicle Rounting Problem\n",
        "\n",
        "\n",
        "Fonte: https://developers.google.com/optimization/routing/vrp\n"
      ],
      "metadata": {
        "id": "VuXbeEhN4O_0"
      }
    },
    {
      "cell_type": "markdown",
      "source": [
        "# Definição do problema"
      ],
      "metadata": {
        "id": "-8P90Kkn6ORk"
      }
    },
    {
      "cell_type": "markdown",
      "source": [
        "Neste notebook foi implementada para a solução do problema de roteamento de veículo com o Or-Tools. No exemplo de uso, foi definido o conjunto de pontos do problema, conforme a imagem abaixo. Neste exemplo o objetivo é otimizar a visita dos nós usando 4 veículos. Contudo, é necessário adicionar uma restrição de distância máxima a ser percorrida por cada veículo ao problema.\n",
        "<p>\n",
        "  <a href=\"exemplo\">\n",
        "    <img src=\"https://developers.google.com/optimization/images/routing/vrp.svg\">\n",
        "  </a>\n",
        "</p>\n"
      ],
      "metadata": {
        "id": "Ob2DYE4l4uke"
      }
    },
    {
      "cell_type": "markdown",
      "source": [
        "# Conjunto de dados"
      ],
      "metadata": {
        "id": "dXwAF3S66KPk"
      }
    },
    {
      "cell_type": "code",
      "execution_count": 2,
      "metadata": {
        "id": "dAjY1Bhv4JmQ"
      },
      "outputs": [],
      "source": [
        "\"\"\"\n",
        " Dados do problema: conjunto das distâncias entre os pontos, incluindo o\n",
        " deposito. Nesse caso, não há diferênça no percurso de ida e volta.\n",
        " O ponto de partida e de chegada será o depósito.\n",
        " O problema utiliza 4 veículos para realizar a visita nos pontos\n",
        "\"\"\"\n",
        "def create_data_model():\n",
        "    data = {}\n",
        "    data['distance_matrix'] = [\n",
        "        [ # Ponto 0 - deposito\n",
        "            0, 548, 776, 696, 582, 274, 502, 194, 308, 194, 536, 502, 388, 354, \n",
        "            468, 776, 662\n",
        "        ],\n",
        "        [\n",
        "            548, 0, 684, 308, 194, 502, 730, 354, 696, 742, 1084, 594, 480, 674,\n",
        "            1016, 868, 1210\n",
        "        ],\n",
        "        [\n",
        "            776, 684, 0, 992, 878, 502, 274, 810, 468, 742, 400, 1278, 1164,\n",
        "            1130, 788, 1552, 754\n",
        "        ],\n",
        "        [\n",
        "            696, 308, 992, 0, 114, 650, 878, 502, 844, 890, 1232, 514, 628, 822,\n",
        "            1164, 560, 1358\n",
        "        ],\n",
        "        [\n",
        "            582, 194, 878, 114, 0, 536, 764, 388, 730, 776, 1118, 400, 514, 708,\n",
        "            1050, 674, 1244\n",
        "        ],\n",
        "        [\n",
        "            274, 502, 502, 650, 536, 0, 228, 308, 194, 240, 582, 776, 662, 628,\n",
        "            514, 1050, 708\n",
        "        ],\n",
        "        [\n",
        "            502, 730, 274, 878, 764, 228, 0, 536, 194, 468, 354, 1004, 890, 856,\n",
        "            514, 1278, 480\n",
        "        ],\n",
        "        [\n",
        "            194, 354, 810, 502, 388, 308, 536, 0, 342, 388, 730, 468, 354, 320,\n",
        "            662, 742, 856\n",
        "        ],\n",
        "        [\n",
        "            308, 696, 468, 844, 730, 194, 194, 342, 0, 274, 388, 810, 696, 662,\n",
        "            320, 1084, 514\n",
        "        ],\n",
        "        [\n",
        "            194, 742, 742, 890, 776, 240, 468, 388, 274, 0, 342, 536, 422, 388,\n",
        "            274, 810, 468\n",
        "        ],\n",
        "        [\n",
        "            536, 1084, 400, 1232, 1118, 582, 354, 730, 388, 342, 0, 878, 764,\n",
        "            730, 388, 1152, 354\n",
        "        ],\n",
        "        [\n",
        "            502, 594, 1278, 514, 400, 776, 1004, 468, 810, 536, 878, 0, 114,\n",
        "            308, 650, 274, 844\n",
        "        ],\n",
        "        [\n",
        "            388, 480, 1164, 628, 514, 662, 890, 354, 696, 422, 764, 114, 0, 194,\n",
        "            536, 388, 730\n",
        "        ],\n",
        "        [\n",
        "            354, 674, 1130, 822, 708, 628, 856, 320, 662, 388, 730, 308, 194, 0,\n",
        "            342, 422, 536\n",
        "        ],\n",
        "        [\n",
        "            468, 1016, 788, 1164, 1050, 514, 514, 662, 320, 274, 388, 650, 536,\n",
        "            342, 0, 764, 194\n",
        "        ],\n",
        "        [\n",
        "            776, 868, 1552, 560, 674, 1050, 1278, 742, 1084, 810, 1152, 274,\n",
        "            388, 422, 764, 0, 798\n",
        "        ],\n",
        "        [\n",
        "            662, 1210, 754, 1358, 1244, 708, 480, 856, 514, 468, 354, 844, 730,\n",
        "            536, 194, 798, 0\n",
        "        ],\n",
        "    ]\n",
        "    data['num_vehicles'] = 4\n",
        "    data['depot'] = 0\n",
        "    return data"
      ]
    },
    {
      "cell_type": "markdown",
      "source": [
        "# Definindo o modelo de roteamento"
      ],
      "metadata": {
        "id": "bwAyvEPp4KUE"
      }
    },
    {
      "cell_type": "code",
      "source": [
        "import os\n",
        "os.system('pip install ortools') #instalando a biblioteca no ambiente de desenvolvimento\n",
        "\n",
        "from ortools.constraint_solver import pywrapcp \n",
        "data = create_data_model()                                           # carregando os dados do problema\n",
        "manager = pywrapcp.RoutingIndexManager(len(data['distance_matrix']), # número de pontos\n",
        "                                       data['num_vehicles'],         # total de veículos/caixeiros  \n",
        "                                       data['depot'])                # índece da origem/depósito\n",
        "routing = pywrapcp.RoutingModel(manager)                             # criando o modelo\n"
      ],
      "metadata": {
        "id": "pn1oOoYB7IU-"
      },
      "execution_count": 8,
      "outputs": []
    },
    {
      "cell_type": "markdown",
      "source": [
        "# Defindo a função que retornará a distância entre dois pontos\n",
        "\n",
        "Essa função é necessária, pois o Ortools trabalha com um sistema diferente de referência."
      ],
      "metadata": {
        "id": "XuLLfWvW9GlV"
      }
    },
    {
      "cell_type": "code",
      "source": [
        "\"\"\"Retorna a distância entre os pontos\"\"\"\n",
        "def distance_callback(from_index, to_index):\n",
        "  from_node = manager.IndexToNode(from_index)   # convertendo o index interno do ortools\n",
        "  to_node = manager.IndexToNode(to_index)       # para o index de acesso à matrix\n",
        "  return data['distance_matrix'][from_node][to_node]\n",
        "\n",
        "\"\"\"Realiza a chamada e a registra no solve \"\"\"\n",
        "transit_callback_index = routing.RegisterTransitCallback(distance_callback)"
      ],
      "metadata": {
        "id": "9Z1yHu809_lN"
      },
      "execution_count": 9,
      "outputs": []
    },
    {
      "cell_type": "code",
      "source": [
        "data['distance_matrix'][1][2]"
      ],
      "metadata": {
        "colab": {
          "base_uri": "https://localhost:8080/"
        },
        "id": "xMPidYry-wnW",
        "outputId": "a76efcd7-7b30-4456-dffe-62d529b03726"
      },
      "execution_count": 5,
      "outputs": [
        {
          "output_type": "execute_result",
          "data": {
            "text/plain": [
              "684"
            ]
          },
          "metadata": {},
          "execution_count": 5
        }
      ]
    },
    {
      "cell_type": "markdown",
      "source": [
        "# Definindo o custo\n",
        "\n",
        "Neste exemplo será utilizado a distância entre os pontos como o custo do problema. Assim, será utilizada a variável *transit_callback_index* que é a referência interna do solve para a função *distance_callback*, que retorna a distância."
      ],
      "metadata": {
        "id": "xRdvtmw1B0iG"
      }
    },
    {
      "cell_type": "code",
      "source": [
        "routing.SetArcCostEvaluatorOfAllVehicles(transit_callback_index)"
      ],
      "metadata": {
        "id": "xF8DLunKBzuV"
      },
      "execution_count": 10,
      "outputs": []
    },
    {
      "cell_type": "markdown",
      "source": [
        "# Definindo os parâmetros e a Heurística da solução\n"
      ],
      "metadata": {
        "id": "3L5dv3i4EFAU"
      }
    },
    {
      "cell_type": "code",
      "source": [
        "from ortools.constraint_solver import routing_enums_pb2\n",
        "\n",
        "search_parameters = pywrapcp.DefaultRoutingSearchParameters()\n",
        "search_parameters.first_solution_strategy = (\n",
        "    routing_enums_pb2.FirstSolutionStrategy.PATH_CHEAPEST_ARC)"
      ],
      "metadata": {
        "id": "DRpceMoNEJr0"
      },
      "execution_count": 13,
      "outputs": []
    },
    {
      "cell_type": "markdown",
      "source": [
        "# Adicionando a dimensão distância ao modelo"
      ],
      "metadata": {
        "id": "TeWjTnGdAJAo"
      }
    },
    {
      "cell_type": "code",
      "source": [
        "dimension_name = 'Distance'\n",
        "max_distance_m = 3000\n",
        "\n",
        "routing.AddDimension(\n",
        "    transit_callback_index,\n",
        "    0,      # indica se haverá um período de parada\n",
        "    max_distance_m, # Máximo a ser percorrido      \n",
        "    True,           # para iniciar a contagem com 0\n",
        "    dimension_name \n",
        ")\n",
        "\n",
        "distance_dimension = routing.GetDimensionOrDie(dimension_name)\n",
        "\"\"\"\n",
        "O método SetGlobalSpanCostCoeficiente define um coeficiente grande (100) para \n",
        "a extensão global das rotas, que neste exemplo é o máximo das distâncias das \n",
        "rotas. Isso torna a extensão global o fator predominante na função objetivo, \n",
        "de modo que o programa minimiza o comprimento da rota mais longa.\n",
        "\"\"\"\n",
        "distance_dimension.SetGlobalSpanCostCoefficient(100)\n"
      ],
      "metadata": {
        "id": "HELWdkHkAPZy"
      },
      "execution_count": 12,
      "outputs": []
    },
    {
      "cell_type": "markdown",
      "source": [
        "# Exibindo os resultados obtidos"
      ],
      "metadata": {
        "id": "gCLyQMiJGfXN"
      }
    },
    {
      "cell_type": "code",
      "source": [
        "def print_solution(data, manager, routing, solution):\n",
        "    print('Objetivo: {} metros'.format(solution.ObjectiveValue()))\n",
        "    max_route_distance = 0\n",
        "    for vehicle_id in range(data['num_vehicles']): # para cada veículo\n",
        "      index = routing.Start(vehicle_id)\n",
        "      plan_output = 'Rota para o veículo {}:\\n'.format(vehicle_id)\n",
        "      route_distance = 0\n",
        "      while not routing.IsEnd(index):\n",
        "          plan_output += ' {} ->'.format(manager.IndexToNode(index))\n",
        "          previous_index = index\n",
        "          index = solution.Value(routing.NextVar(index))\n",
        "          route_distance += routing.GetArcCostForVehicle(\n",
        "              previous_index,\n",
        "               index, \n",
        "               vehicle_id)\n",
        "          \n",
        "      plan_output += ' {}\\n'.format(manager.IndexToNode(index))\n",
        "      plan_output += 'Rota para a distância percorrida: {} metros\\n'.format(route_distance)\n",
        "      print(plan_output)\n",
        "      max_route_distance = route_distance + max_route_distance\n",
        "    print('A distância total percorrida pelos {} veículos foi: {} metros'.format(data['num_vehicles'], max_route_distance))\n",
        "\n",
        "    "
      ],
      "metadata": {
        "id": "srBl-UIJGlCp"
      },
      "execution_count": 48,
      "outputs": []
    },
    {
      "cell_type": "markdown",
      "source": [
        "# Main"
      ],
      "metadata": {
        "id": "DHMijt86Ifs0"
      }
    },
    {
      "cell_type": "code",
      "source": [
        "solution = routing.SolveWithParameters(search_parameters)\n",
        "\n",
        "if solution:\n",
        "    print_solution(data, manager, routing, solution)\n",
        "else:\n",
        "  print('Este problema não possue solução para as configurações apresentadas')"
      ],
      "metadata": {
        "colab": {
          "base_uri": "https://localhost:8080/"
        },
        "id": "RqegRVsRIhE1",
        "outputId": "c0a0c3d3-65ee-4f67-8b8f-f924eb94027a"
      },
      "execution_count": 49,
      "outputs": [
        {
          "output_type": "stream",
          "name": "stdout",
          "text": [
            "Objetivo: 161408 metros\n",
            "Rota para o veículo 0:\n",
            " 0 -> 9 -> 10 -> 16 -> 14 -> 0\n",
            "Rota para a distância percorrida: 1552 metros\n",
            "\n",
            "Rota para o veículo 1:\n",
            " 0 -> 13 -> 15 -> 11 -> 12 -> 0\n",
            "Rota para a distância percorrida: 1552 metros\n",
            "\n",
            "Rota para o veículo 2:\n",
            " 0 -> 7 -> 1 -> 4 -> 3 -> 0\n",
            "Rota para a distância percorrida: 1552 metros\n",
            "\n",
            "Rota para o veículo 3:\n",
            " 0 -> 8 -> 6 -> 2 -> 5 -> 0\n",
            "Rota para a distância percorrida: 1552 metros\n",
            "\n",
            "A distância total percorrida pelos 4 veículos foi: 6208 metros\n"
          ]
        }
      ]
    },
    {
      "cell_type": "markdown",
      "source": [
        "# Salvando as rotas em um array"
      ],
      "metadata": {
        "id": "H5MRHoEwIoT-"
      }
    },
    {
      "cell_type": "code",
      "source": [
        "def get_routes(solution, routing, manager):\n",
        "  routes = [] \n",
        "  for route_nbr in range(routing.vehicles()): # para cada veículo do conjunto de rotas\n",
        "    index = routing.Start(route_nbr)      # Ponto de partida (depósito)\n",
        "    route = [manager.IndexToNode(index)]  # Convertende e adicionando o index no array\n",
        "    while not routing.IsEnd(index):       # Enquanto não for o último índice\n",
        "      index = solution.Value(routing.NextVar(index))\n",
        "      route.append(manager.IndexToNode(index)) \n",
        "    routes.append(route)\n",
        "  return routes\n",
        "\n",
        "#exibindo a rota final\n",
        "routes = get_routes(solution, routing, manager)\n",
        "for i, route in enumerate(routes):\n",
        "  print('Rota obtida com a solução para o veículo', i,'=', route)"
      ],
      "metadata": {
        "colab": {
          "base_uri": "https://localhost:8080/"
        },
        "id": "xJ_YpD8QIs5V",
        "outputId": "7c187853-d8b8-46ff-9101-5389850bde26"
      },
      "execution_count": 47,
      "outputs": [
        {
          "output_type": "stream",
          "name": "stdout",
          "text": [
            "Rota obtida com a solução para o veículo 0 = [0, 9, 10, 16, 14, 0]\n",
            "Rota obtida com a solução para o veículo 1 = [0, 13, 15, 11, 12, 0]\n",
            "Rota obtida com a solução para o veículo 2 = [0, 7, 1, 4, 3, 0]\n",
            "Rota obtida com a solução para o veículo 3 = [0, 8, 6, 2, 5, 0]\n"
          ]
        }
      ]
    }
  ]
}