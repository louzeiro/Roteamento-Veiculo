{
  "nbformat": 4,
  "nbformat_minor": 0,
  "metadata": {
    "colab": {
      "name": "LoggiBUD_comentado.ipynb",
      "provenance": [],
      "authorship_tag": "ABX9TyPN7fkWgU5mIy0nblTK6S3b",
      "include_colab_link": true
    },
    "kernelspec": {
      "name": "python3",
      "display_name": "Python 3"
    },
    "language_info": {
      "name": "python"
    }
  },
  "cells": [
    {
      "cell_type": "markdown",
      "metadata": {
        "id": "view-in-github",
        "colab_type": "text"
      },
      "source": [
        "<a href=\"https://colab.research.google.com/github/louzeiro/Roteamento-Veiculo/blob/main/LoggiBUD_comentado.ipynb\" target=\"_parent\"><img src=\"https://colab.research.google.com/assets/colab-badge.svg\" alt=\"Open In Colab\"/></a>"
      ]
    },
    {
      "cell_type": "markdown",
      "source": [
        "# Aula 01"
      ],
      "metadata": {
        "id": "vJEQ_CRQZqPK"
      }
    },
    {
      "cell_type": "markdown",
      "source": [
        "Aula: https://www.youtube.com/watch?v=Yqt9BjJX5Zg \n"
      ],
      "metadata": {
        "id": "kyW6j-XTY9ug"
      }
    },
    {
      "cell_type": "code",
      "execution_count": null,
      "metadata": {
        "id": "X1zdFh45Y4_y"
      },
      "outputs": [],
      "source": [
        "import os\n",
        "os.system(\"git clone https://github.com/loggi/loggibud\")  # Clonando o projeto\n",
        "os.chdir(\"/content/loggibud/\")                                    # acessando o projeto\n",
        "os.system(\"pip install poetry\")                           # instalando as dependências\n",
        "!poetry install\n",
        "!poetry export -f requirements.txt --without-hashes --output requirements.txt \n",
        "!pip install -r requirements.txt\n"
      ]
    },
    {
      "cell_type": "markdown",
      "source": [
        "Teste do ambiente"
      ],
      "metadata": {
        "id": "DHAx8ATfcdrI"
      }
    },
    {
      "cell_type": "code",
      "source": [
        "!poetry run pytest -s -v tests/"
      ],
      "metadata": {
        "colab": {
          "base_uri": "https://localhost:8080/"
        },
        "id": "WhekOeqka75q",
        "outputId": "1cb92538-b5a9-4f0b-e5e5-620957483be0"
      },
      "execution_count": 6,
      "outputs": [
        {
          "output_type": "stream",
          "name": "stdout",
          "text": [
            "\u001b[1m============================= test session starts ==============================\u001b[0m\n",
            "platform linux -- Python 3.7.13, pytest-6.2.5, py-1.10.0, pluggy-1.0.0 -- /root/.cache/pypoetry/virtualenvs/loggibud-3SbdMl6d-py3.7/bin/python\n",
            "cachedir: .pytest_cache\n",
            "rootdir: /content/loggibud\n",
            "collected 7 items / 1 skipped / 6 selected                                     \u001b[0m\n",
            "\n",
            "tests/v1/test_data_conversion.py::test_can_create_proper_tsplib_from_instance \u001b[32mPASSED\u001b[0m\n",
            "tests/v1/test_distances.py::test_great_circle_distance \u001b[32mPASSED\u001b[0m\n",
            "tests/v1/test_distances.py::test_great_circle_route_distance \u001b[32mPASSED\u001b[0m\n",
            "tests/v1/test_task1_baselines.py::test_ortools_solver \u001b[32mPASSED\u001b[0m\n",
            "tests/v1/test_task1_baselines.py::test_lkh_solver \u001b[32mPASSED\u001b[0m\n",
            "100% 158/158 [00:00<00:00, 3544.84it/s]\n",
            "\u001b[32mPASSED\u001b[0m\n",
            "100% 158/158 [00:00<00:00, 59413.67it/s]\n",
            "\u001b[32mPASSED\u001b[0m\n",
            "\n",
            "\u001b[32m========================= \u001b[32m\u001b[1m7 passed\u001b[0m, \u001b[33m1 skipped\u001b[0m\u001b[32m in 8.19s\u001b[0m\u001b[32m =========================\u001b[0m\n"
          ]
        }
      ]
    },
    {
      "cell_type": "markdown",
      "source": [
        "Dataset"
      ],
      "metadata": {
        "id": "FHOT3jRFckzH"
      }
    },
    {
      "cell_type": "code",
      "source": [
        "os.system(\"wget -nc https://loggibud.s3.amazonaws.com/dataset.zip\")\n",
        "os.system(\"unzip -n dataset.zip\")"
      ],
      "metadata": {
        "id": "0B5JmLMHcmVa"
      },
      "execution_count": null,
      "outputs": []
    },
    {
      "cell_type": "markdown",
      "source": [
        "Carregando uma instância"
      ],
      "metadata": {
        "id": "4Vh9m6jdct3E"
      }
    },
    {
      "cell_type": "code",
      "source": [
        "from loggibud.v1.types import CVRPInstance\n",
        "\n",
        "file_path = \"./data/cvrp-instances-1.0/dev/pa-0/cvrp-0-pa-90.json\"\n",
        "problem = CVRPInstance.from_file(file_path)\n",
        "problem"
      ],
      "metadata": {
        "colab": {
          "base_uri": "https://localhost:8080/"
        },
        "id": "YFIDok-2c8ki",
        "outputId": "d5e6f0e2-bd9a-4768-ef76-abf432d6f585"
      },
      "execution_count": 10,
      "outputs": [
        {
          "output_type": "execute_result",
          "data": {
            "text/plain": [
              "CVRPInstance(name='cvrp-0-pa-90', region='pa-0', origin=Point(lng=-47.93317089927402, lat=-1.2923387357484621), vehicle_capacity=180, deliveries=[Delivery(id='5b163d38d0415e345c1cca5e8605f5ae', point=Point(lng=-48.04955026279041, lat=-1.3641253875330555), size=9), Delivery(id='991801bf4af135e20fc93a7f88b2318a', point=Point(lng=-48.15577647931877, lat=-1.3754611378537287), size=2), Delivery(id='9b9fb6e8d8edbd9b08885430d11acda6', point=Point(lng=-48.15539255577457, lat=-1.377445723127131), size=8), Delivery(id='dffda8430967bb35819f599cfd5e3656', point=Point(lng=-48.16286684714554, lat=-1.3230543501457006), size=8), Delivery(id='8eb04a20bab679ae91fbf35bc9db7e78', point=Point(lng=-47.91791888594517, lat=-1.2880982446567912), size=1), Delivery(id='1d837d7db93132e1e8abbf158f974c35', point=Point(lng=-47.91420090254283, lat=-1.2896323402590566), size=1), Delivery(id='bf9121ca6e6c6264c514873597851810', point=Point(lng=-47.91619957054622, lat=-1.2953507935510176), size=4), Delivery(id='a9e892f75ba916645385fa5f23936cd5', point=Point(lng=-47.9161454560465, lat=-1.2899323397691969), size=3), Delivery(id='5ef121fc5307f5bb3bff8cc99c07f0ec', point=Point(lng=-47.907765227218206, lat=-1.2970722443982263), size=10), Delivery(id='51328383a8c863c53d937f05312be597', point=Point(lng=-47.91696249797327, lat=-1.2981148642553186), size=6), Delivery(id='b5efe866fcfb358dd44b7381b0f73f50', point=Point(lng=-47.916980792472636, lat=-1.3010336728329384), size=2), Delivery(id='219d4ce4aa390cd6a1799f73f9154e67', point=Point(lng=-47.91504345886239, lat=-1.2891113445422782), size=9), Delivery(id='dd174a5de478af48bf9351aa66c8434c', point=Point(lng=-47.91006515659856, lat=-1.3021943962525757), size=3), Delivery(id='43796e01b909cf4b32f9c46f44cad329', point=Point(lng=-47.92100531926416, lat=-1.2929008432281914), size=1), Delivery(id='2ec8fac15a79d2a195daedd3668f9cc5', point=Point(lng=-47.91016238005741, lat=-1.289599294146302), size=10), Delivery(id='66be409c4be0e56bc1498aaf8cb7017a', point=Point(lng=-47.91644379752168, lat=-1.2929917820634858), size=5), Delivery(id='7ac4389b52d204cfc4b05e120e6d2e40', point=Point(lng=-47.92067349971618, lat=-1.290979387916563), size=2), Delivery(id='a686bb74082f87e64b3bd68d9ead0a79', point=Point(lng=-47.91842663257821, lat=-1.2981552588111127), size=5), Delivery(id='cbf74280d9eb65729796e32c51f8b513', point=Point(lng=-47.911837162528464, lat=-1.2939741478706464), size=9), Delivery(id='cd9e1af5394ba8592358e1c4ee5549f2', point=Point(lng=-47.9198517225354, lat=-1.2935169983718546), size=7), Delivery(id='dcbe417fc240d11eebbc3822e16702c6', point=Point(lng=-47.915506204806306, lat=-1.301429421309155), size=7), Delivery(id='716ac7cf84cb93f921efa567de7a9cc5', point=Point(lng=-47.91441549033042, lat=-1.2854385005900673), size=10), Delivery(id='38504b53875e0487caeab19a0fcbaad7', point=Point(lng=-47.90886727934948, lat=-1.2894175273224493), size=8), Delivery(id='a624d13e48f9b71efd9b33553d8eea19', point=Point(lng=-47.916332126883745, lat=-1.297770894705953), size=2), Delivery(id='5ed1f23250af75c4d360ad8b9343cfec', point=Point(lng=-47.9137685032631, lat=-1.2986532697581146), size=8), Delivery(id='a20da425ac005864fd16abedc6c513c', point=Point(lng=-47.91325446578458, lat=-1.29491843125347), size=10), Delivery(id='629660708b01fbeb3df980df2673b64b', point=Point(lng=-47.911752538244585, lat=-1.303810995942015), size=10), Delivery(id='5324e3ec232baab3aa34cec814bc08cd', point=Point(lng=-47.91442869128235, lat=-1.2952409656946513), size=7), Delivery(id='896d3f6e97b523ae63f104da559e58d7', point=Point(lng=-47.9181870898827, lat=-1.2914286435099633), size=5), Delivery(id='d1399306114b56db8b9a98e355be5fe2', point=Point(lng=-47.91829254297772, lat=-1.299886657361589), size=6), Delivery(id='69a46cbb1d14cf7f0624ad3c643b7315', point=Point(lng=-47.91215940590976, lat=-1.3005139501180363), size=1), Delivery(id='37401adcef57a27e743b379a8a7ec1a8', point=Point(lng=-47.92171554898958, lat=-1.29405712093902), size=1), Delivery(id='1058e558010e32e70ff67063ff8f260e', point=Point(lng=-47.91648323477927, lat=-1.298164870117258), size=9), Delivery(id='a3f2c655dd80ca6d718e09d6fcf30682', point=Point(lng=-47.91641158044118, lat=-1.296568240227997), size=6), Delivery(id='6837fdaf8f5787b9722a4a407a0c3c92', point=Point(lng=-47.913115540076944, lat=-1.3019570354077628), size=4), Delivery(id='3051bd2fbc5e6c45072f62d97fb925a4', point=Point(lng=-47.91586706913531, lat=-1.2956251156094065), size=1), Delivery(id='a95aaff4fc4542662ca9d774e5ac4e56', point=Point(lng=-47.914514239111526, lat=-1.2903610205659988), size=7), Delivery(id='6d15175ea991b135fef522e050b4673e', point=Point(lng=-47.91622288734697, lat=-1.2840856773978768), size=7), Delivery(id='1a353fec047d097ba6d39bb1ab39af1e', point=Point(lng=-47.919828641512424, lat=-1.2807610822685602), size=7), Delivery(id='550d627cee74c97805c958430fc27a59', point=Point(lng=-47.92240435640273, lat=-1.2813976219499112), size=4), Delivery(id='3fef3ba74813a163dbe317f1cfc7daaf', point=Point(lng=-47.92070332785894, lat=-1.2865582858783604), size=7), Delivery(id='dae5ed59ae56d290d6ef90095116a887', point=Point(lng=-47.92212541462644, lat=-1.277506448703492), size=6), Delivery(id='d13757466b9c2adbfa58162a54d37bb0', point=Point(lng=-47.92191192213473, lat=-1.2793945522644128), size=2), Delivery(id='51ec128587b05e73cdf8263b884a6543', point=Point(lng=-47.913880072442566, lat=-1.283564040735239), size=8), Delivery(id='86206b3426f078d7e14194d5f4fc00cc', point=Point(lng=-47.92783161149957, lat=-1.2824664022393106), size=10), Delivery(id='d0e9e683b58099411f363d3403aea2f5', point=Point(lng=-47.919215596673375, lat=-1.2831427562169113), size=10), Delivery(id='cf800f8112521a31249a52a83a3c7e06', point=Point(lng=-47.92254293439791, lat=-1.286091856223207), size=3), Delivery(id='60df829841e165219dfdcdaf15e3463', point=Point(lng=-47.926325624355236, lat=-1.2811896933722517), size=7), Delivery(id='85815968cbaf77d007fd54d8841ffd5b', point=Point(lng=-47.927898604846824, lat=-1.2823054287688507), size=6), Delivery(id='9632d3c55eed65389f392214d1f9dc4c', point=Point(lng=-47.91538950195912, lat=-1.2797653551148234), size=5), Delivery(id='58985e7f63dbcba04884152ee8ef8826', point=Point(lng=-47.92951377778721, lat=-1.2807707619664797), size=10), Delivery(id='fcd2b1452df0be93f2fbd992e0107237', point=Point(lng=-47.922390411071596, lat=-1.2866580016845415), size=3), Delivery(id='52f97c3f73ffe4b9daf1863360e427be', point=Point(lng=-47.92946070236527, lat=-1.282602631309994), size=2), Delivery(id='fa7041211fdcf5d0ab5910d20bad4459', point=Point(lng=-47.924154023035186, lat=-1.2841954331043028), size=1), Delivery(id='66cb0b1bd9d6664020fccd4cff5ae767', point=Point(lng=-47.92685194574689, lat=-1.2839973475874444), size=7), Delivery(id='30681742aee6a4accebcd32f310df4c2', point=Point(lng=-47.9210331969121, lat=-1.2875878249582813), size=3), Delivery(id='ba65fdf871656ed677755f8d95c01edf', point=Point(lng=-47.916145840954215, lat=-1.2812204547406212), size=10), Delivery(id='6d15175ea991b135fef522e050b4673e', point=Point(lng=-47.91622288734697, lat=-1.2840856773978768), size=7), Delivery(id='7c36e78d3dabcbb298f852f9acfeecc7', point=Point(lng=-47.92058365106944, lat=-1.2898658568720651), size=6), Delivery(id='53d53785eccdf882f545f162ad0de7be', point=Point(lng=-47.91785968689703, lat=-1.276826858596216), size=2), Delivery(id='7e1bc2d780bac40300cd77e79462cd19', point=Point(lng=-47.930140312957164, lat=-1.2799653192359366), size=7), Delivery(id='333d7bc2817022bd40e9352f71eda581', point=Point(lng=-47.91954679362764, lat=-1.2812100165338336), size=6), Delivery(id='f55473c0daabbcf466124e9d424330b5', point=Point(lng=-47.91756335948991, lat=-1.2843003189963236), size=9), Delivery(id='8195dbc3f48339e3ca7cbfe571933a13', point=Point(lng=-47.92395059141855, lat=-1.281008089246393), size=3), Delivery(id='73a95f9f16fa568ab993a23a02b2bdb6', point=Point(lng=-47.92578565650786, lat=-1.2837584361502472), size=5), Delivery(id='70285ff508d37248b287c0c5514bf80b', point=Point(lng=-47.926779631176416, lat=-1.2830330166926063), size=7), Delivery(id='a4d10e7be81bde8ece3b7e19f99108ad', point=Point(lng=-47.92278464761725, lat=-1.2809328308343875), size=2), Delivery(id='b994403d25bfac994a7a1ef9f9837f99', point=Point(lng=-47.9300791081508, lat=-1.283279042477018), size=6), Delivery(id='1779fe50e0c3e5ea2ff4b13bcb6d7ed7', point=Point(lng=-47.92383086474617, lat=-1.2887030842937155), size=9), Delivery(id='333d7bc2817022bd40e9352f71eda581', point=Point(lng=-47.91954679362764, lat=-1.2812100165338336), size=6), Delivery(id='a94aae8491522a4850743896d0af42a2', point=Point(lng=-47.92430304375251, lat=-1.275810808389838), size=9), Delivery(id='e5010e405d6052e796e21b1478d90427', point=Point(lng=-47.92623380483511, lat=-1.285891687798944), size=6), Delivery(id='cd61d25a36ece7f2d9cc64556eec80c1', point=Point(lng=-47.93034950520977, lat=-1.2801857773436598), size=10), Delivery(id='c4c7b9fa535640e4871c58261016753', point=Point(lng=-47.93021609951664, lat=-1.2831392192078306), size=3), Delivery(id='12fb116ebb607eed1ce41b9ae8b68c22', point=Point(lng=-47.89654015205035, lat=-1.3166105192625084), size=2), Delivery(id='fc3ef5692403f652b3112fc30e030353', point=Point(lng=-47.89086691717356, lat=-1.3201201536025011), size=3), Delivery(id='b2f4933a8d54127b86b2d3cae22fb9d1', point=Point(lng=-47.89794321780202, lat=-1.299971982847883), size=10), Delivery(id='c194678f80fc9e8a030ea17aecdc3e78', point=Point(lng=-47.88983702012604, lat=-1.3175535717645361), size=10), Delivery(id='a697a0bdd11c938337e96fc1ec1cdd96', point=Point(lng=-47.886350542253375, lat=-1.3000852823761557), size=5), Delivery(id='6a1b807073d30bf2867b4f45ed8f42fa', point=Point(lng=-47.895589319262676, lat=-1.3179117149355515), size=9), Delivery(id='d8a4b80d63c9c7d7b3bb479b358ad5df', point=Point(lng=-47.89438589248305, lat=-1.2999436812160454), size=6), Delivery(id='493f421d804dcc9e36f1fa75b018c76b', point=Point(lng=-47.88899851668151, lat=-1.2987127421947684), size=3), Delivery(id='593430448548a27a6425eb71cf4fa09b', point=Point(lng=-47.8886044390359, lat=-1.3059005729148037), size=9), Delivery(id='f2d148ed1e0df04dc325db2ffb8b52cf', point=Point(lng=-47.89426659956357, lat=-1.3148718991952395), size=5), Delivery(id='d12b43d82b1e107aaca2cced31df742c', point=Point(lng=-47.89685854450877, lat=-1.2989121649708475), size=3), Delivery(id='89a8fad1b548348f054c00929e909576', point=Point(lng=-47.85629701001409, lat=-1.2700543451629), size=2), Delivery(id='5715142d22d41b313d27e27377820e09', point=Point(lng=-47.89591172618499, lat=-1.317054627648014), size=4), Delivery(id='c83466572478834d79e84a30b084d90b', point=Point(lng=-47.88330051748864, lat=-1.3139153470983806), size=2), Delivery(id='24af2a2f2174099a1468db005f44c43e', point=Point(lng=-47.89418577920151, lat=-1.300614008975009), size=4), Delivery(id='c10408ab9ecc5045c381519d2ba13e7d', point=Point(lng=-47.894906594378085, lat=-1.3166207569458896), size=8), Delivery(id='414fb2af93f064dc3a01c7e941ca5851', point=Point(lng=-47.89269097082696, lat=-1.3210379468129025), size=10), Delivery(id='209850b0fcde81983bdececf2750863e', point=Point(lng=-47.8939444750743, lat=-1.31241350209312), size=2), Delivery(id='10a50e8cbc11c3ee780f2f531f13d4c6', point=Point(lng=-47.892044524252086, lat=-1.3160599976559406), size=6), Delivery(id='7b9e2563a8e78b5a06008b673c93dfc7', point=Point(lng=-47.887153431434385, lat=-1.3188003468368639), size=2), Delivery(id='681b9b2da2c6d13123097a71ec6d0bc2', point=Point(lng=-47.88639516627295, lat=-1.293004463612356), size=10), Delivery(id='81869b9daac5d66af11f8c2d91e9e505', point=Point(lng=-47.897772795354925, lat=-1.3036555495451783), size=3), Delivery(id='31b386d0eb29ebf5ac2a71241d4ae19d', point=Point(lng=-47.84156969978328, lat=-1.3679731340721537), size=4), Delivery(id='43ff9be1837de73a8ccfa53402d00d23', point=Point(lng=-47.89056288960598, lat=-1.3207283809404178), size=9), Delivery(id='ee41727b5449acd503fda87f82ae8cc5', point=Point(lng=-48.01003704734027, lat=-1.224184117674342), size=5), Delivery(id='6430b3a24c058d8220184d2f0bba3f74', point=Point(lng=-48.0614076950389, lat=-1.2899263832941497), size=9), Delivery(id='b917c196e49ec493a2dbf1a7cd3f2376', point=Point(lng=-48.07964414638009, lat=-1.2282618847444957), size=3), Delivery(id='5ab92ba6418f7898c8217dc766935fc0', point=Point(lng=-48.037806437340215, lat=-1.3108924721591682), size=7), Delivery(id='cf4f5a6740c54ffd7f086947a551f159', point=Point(lng=-48.05733416779964, lat=-1.2994852294442083), size=5), Delivery(id='8e387da82683356780eda2f615fc6078', point=Point(lng=-48.04783877247126, lat=-1.2568003304736244), size=4), Delivery(id='640a6ecbdf42cc11688b680611224e1b', point=Point(lng=-48.034738112466755, lat=-1.261512721414432), size=2), Delivery(id='8dfaf1009dc5db0b22d834912188345b', point=Point(lng=-48.056575741426045, lat=-1.2547542647418597), size=5), Delivery(id='ab95a956a36b820a7d206aabb40f99d9', point=Point(lng=-48.065452263701395, lat=-1.2392651733820759), size=2), Delivery(id='175595144263c23a085b7306ec4a025d', point=Point(lng=-48.05984147500158, lat=-1.2946686454922185), size=4), Delivery(id='b9deffdfa854eacb2bf5710aba8b636f', point=Point(lng=-48.10470572367602, lat=-1.2687285815858627), size=3), Delivery(id='1123b30115d6309d51858c9a507b7fcb', point=Point(lng=-47.92420472550277, lat=-1.2993879274356113), size=7), Delivery(id='cd36e9e4db9615cbafc001b69dbe2f8e', point=Point(lng=-47.91872941612887, lat=-1.3024585394811778), size=6), Delivery(id='6b3ec56ae637adf653da44d7188788cc', point=Point(lng=-47.928287825461446, lat=-1.2991066935665778), size=3), Delivery(id='2ad69cea82519063ddc9c9ae31f0e226', point=Point(lng=-47.92786525057792, lat=-1.3015675758587446), size=8), Delivery(id='e126e9c74efc69ada09966153b75c936', point=Point(lng=-47.92328378345541, lat=-1.3077913048246355), size=6), Delivery(id='4822e7df7af370f0b777d173756bdca3', point=Point(lng=-47.93198493566937, lat=-1.3023210038779112), size=6), Delivery(id='c54d04011887e5c34e953ca8cf2fe8c0', point=Point(lng=-47.92275242224011, lat=-1.3072306667689388), size=4), Delivery(id='90054e01ad0e799368b1d0449ced7ab1', point=Point(lng=-47.91902287868315, lat=-1.3019147251124232), size=7), Delivery(id='c3c097af933e63737cb46f8abaf8438', point=Point(lng=-47.93047442587004, lat=-1.3002249192387765), size=7), Delivery(id='bc3a4bcf24330ddda2668650f7879631', point=Point(lng=-47.92504055432931, lat=-1.305414881394121), size=10), Delivery(id='b76938bc804926ea7826b3078632aa29', point=Point(lng=-47.92967347374961, lat=-1.299611944636421), size=5), Delivery(id='e50c7573600a562b8594e0ea8ee9745e', point=Point(lng=-47.92412272532257, lat=-1.301937964580614), size=9), Delivery(id='b052251f7ceec40845c84a949ba45d70', point=Point(lng=-47.91618056526397, lat=-1.3049840786663542), size=8), Delivery(id='c19a61222f261962c2032919f14726c1', point=Point(lng=-47.9280344182708, lat=-1.3000373639629503), size=2), Delivery(id='36f6c21eabdb06f1b03c4568afcb67b6', point=Point(lng=-47.92235788364797, lat=-1.299785389834891), size=4), Delivery(id='7ea60b51b70fcd7059f9989c2116e7f4', point=Point(lng=-47.930634435184935, lat=-1.3062843236133075), size=3), Delivery(id='68d676ad84cfe6a2e9b5705836f1c0c1', point=Point(lng=-47.93023084906077, lat=-1.3036838465983986), size=1), Delivery(id='230fc7397db3191df2a1a65570e2c7b1', point=Point(lng=-47.9231445851654, lat=-1.3024549653159412), size=6), Delivery(id='4e72b5c6a8c665afced4759593afbd3c', point=Point(lng=-47.923454189766076, lat=-1.2993202981236083), size=7), Delivery(id='d63780f2267bf7e095ea166a8eddf817', point=Point(lng=-47.926793504135176, lat=-1.3043287523373666), size=5), Delivery(id='170404d60c49de3992cb2802a2b8dc38', point=Point(lng=-47.92332629429512, lat=-1.2986405097669713), size=4), Delivery(id='882f9299d49778ff7ab157f216fe0804', point=Point(lng=-47.92704687531862, lat=-1.302018926599287), size=9), Delivery(id='b76938bc804926ea7826b3078632aa29', point=Point(lng=-47.92967347374961, lat=-1.299611944636421), size=5), Delivery(id='36f6c21eabdb06f1b03c4568afcb67b6', point=Point(lng=-47.92235788364797, lat=-1.299785389834891), size=4), Delivery(id='be491ab5d426cac6451cff0162fa0be', point=Point(lng=-47.92155575454233, lat=-1.3087079461214108), size=7), Delivery(id='36f6c21eabdb06f1b03c4568afcb67b6', point=Point(lng=-47.92235788364797, lat=-1.299785389834891), size=4), Delivery(id='e059395006d6846c29e1e72d68f6d89e', point=Point(lng=-47.92144203390785, lat=-1.307725568622254), size=10), Delivery(id='2c4c4399a310fc99c60bd543f2bbbb79', point=Point(lng=-48.230902860004896, lat=-1.3154755840991983), size=3), Delivery(id='6027541ca60b404d403dfd1c2881e869', point=Point(lng=-48.25325613273597, lat=-1.279095249588378), size=9), Delivery(id='7e56d02c2410bbcae4be424e724feca9', point=Point(lng=-48.195120573572076, lat=-1.276044656020967), size=7), Delivery(id='6027541ca60b404d403dfd1c2881e869', point=Point(lng=-48.25325613273597, lat=-1.279095249588378), size=9), Delivery(id='fb88f2f66a5294f724ce6d9cd00b95d4', point=Point(lng=-48.20526008326379, lat=-1.3292060118224918), size=10), Delivery(id='3131001af7077c206a049aa2b3c51d92', point=Point(lng=-47.90542869105743, lat=-1.3129713866904942), size=9), Delivery(id='a92b8e59bf561aedd1694b29c416bdf3', point=Point(lng=-47.924302496698246, lat=-1.3187270026754685), size=9), Delivery(id='416721f9e7f6cf1623f61bd13d3fb07e', point=Point(lng=-47.91725143605813, lat=-1.312274430698702), size=10), Delivery(id='881ac5e7789f308eedcda16e2398fe2b', point=Point(lng=-47.918136217556814, lat=-1.3128067891637463), size=7), Delivery(id='1a826b3276bcb59ccf0f4e2cb2baa421', point=Point(lng=-47.904923821665996, lat=-1.3197208528033135), size=6), Delivery(id='2d2b1fee9bcdc778464f626dfb930fe5', point=Point(lng=-47.91662420383834, lat=-1.3062617713378597), size=2), Delivery(id='3079a4af88b0d3007689791908ca48ad', point=Point(lng=-47.91751286519236, lat=-1.3071514313280765), size=5), Delivery(id='ce32e039eba5dde527db911d6bc37d97', point=Point(lng=-47.92737683223588, lat=-1.2482591234725442), size=2), Delivery(id='1af077b7d652aa06915ab13bdca0402e', point=Point(lng=-47.90599444890486, lat=-1.24518962375889), size=3), Delivery(id='5d02f309d3c36945dc67e82ede11ce93', point=Point(lng=-47.91847437205004, lat=-1.2715362004131021), size=5), Delivery(id='3fe135518637bb227ce906679107f352', point=Point(lng=-47.91596328441054, lat=-1.2659294677365083), size=7), Delivery(id='4eee12a495b0fd4da133b329df7ec587', point=Point(lng=-47.91715231207293, lat=-1.2750740722806546), size=4), Delivery(id='c50db26005297cc072ac7d534db11999', point=Point(lng=-47.91715324749007, lat=-1.274484087464291), size=2), Delivery(id='aabbf645a89b3867075b093f216298eb', point=Point(lng=-47.9184350368706, lat=-1.2676312786244697), size=2), Delivery(id='128e74b5bcb46e0deb8f08d5812b0e27', point=Point(lng=-47.91649981652623, lat=-1.2723833424863182), size=3), Delivery(id='eb6694661e4ce6bc7729dc9d20c15ae1', point=Point(lng=-47.93081868850112, lat=-1.2725438707761958), size=8), Delivery(id='1655cd039558a93368abcba84362b781', point=Point(lng=-47.94213748466214, lat=-1.2991816361742634), size=7), Delivery(id='3dab36ed6320f19eab12327f34b02b4', point=Point(lng=-47.93668328697007, lat=-1.310606389834693), size=5), Delivery(id='209b8e3dfe0e5a2ea834a45e60e2a4b8', point=Point(lng=-47.94050054434324, lat=-1.298625039786675), size=7), Delivery(id='2ae0fc14e72d5b6cf40035e30a612bef', point=Point(lng=-47.93099608649656, lat=-1.3153702756334325), size=2), Delivery(id='8a1dade97cc453889f6f3e2baf718031', point=Point(lng=-47.94099193681736, lat=-1.3046633867936501), size=8), Delivery(id='78919d0758d7ac7ee350ec0d0c655cd8', point=Point(lng=-47.94077455676152, lat=-1.3049854843125623), size=7), Delivery(id='62c0f62cf0e2a700bfbaf24949ae0ffa', point=Point(lng=-47.93176520807652, lat=-1.3119305732882427), size=8), Delivery(id='2f63841a0d4218ba0391b26707f3990d', point=Point(lng=-47.9378969240689, lat=-1.3085447989979857), size=6), Delivery(id='53f18e59270fc53961fbc097c35707c9', point=Point(lng=-47.938146652838526, lat=-1.3004837177483715), size=10), Delivery(id='4676194990e5d8d7f576b009d3a044cd', point=Point(lng=-47.939537234817195, lat=-1.3049408803604998), size=3), Delivery(id='8ea7fda5a00594a2e1be219bee4de796', point=Point(lng=-47.932064508644395, lat=-1.3082195939173278), size=8), Delivery(id='7031b22f3c252f194de9b13f2f5cf1d3', point=Point(lng=-47.93770531369884, lat=-1.3077316968144244), size=3), Delivery(id='d0cc0b976e1ac0c75b04fb257085473', point=Point(lng=-47.987386090965785, lat=-1.2916153076770707), size=5), Delivery(id='8e0498614fe3cee7f126b5479bfc0466', point=Point(lng=-47.987632607474644, lat=-1.3028046860895757), size=9), Delivery(id='49c17034e54dd7078fc26e442b0303f7', point=Point(lng=-47.98172665760769, lat=-1.2997318405221157), size=5), Delivery(id='1598a2101956d16f9600357cd1dfc475', point=Point(lng=-47.987325594721234, lat=-1.3074142016687151), size=6), Delivery(id='f477e95bd6bd1384e074e582f0fd7367', point=Point(lng=-48.05881813169814, lat=-1.4584303197714852), size=1), Delivery(id='b047bc19c46080fdaa83ecad12525371', point=Point(lng=-47.844223391556625, lat=-1.0904596679371354), size=2), Delivery(id='5a75eb57583a5b9beacd98120361a48d', point=Point(lng=-47.883096140500975, lat=-1.1367013222231745), size=5), Delivery(id='191e68902381adc2d0024847e55492dd', point=Point(lng=-48.178918236792626, lat=-1.3010911145163375), size=8), Delivery(id='191e68902381adc2d0024847e55492dd', point=Point(lng=-48.178918236792626, lat=-1.3010911145163375), size=8), Delivery(id='91f0e9b8908ebfeb38c32bebb82f424c', point=Point(lng=-48.17094817506504, lat=-1.3056702723334785), size=1), Delivery(id='58329453e0258d4d84e4ad11e368058a', point=Point(lng=-48.16523916140776, lat=-1.2943913083946845), size=5), Delivery(id='1ce02613a6fd5d79d8b7c7bcb5a33bb3', point=Point(lng=-48.16588888743601, lat=-1.296464618086815), size=2), Delivery(id='edbb43587f4a9783847748a8dd297ce0', point=Point(lng=-48.16489244958821, lat=-1.297328031057007), size=1), Delivery(id='c07ca44aaf954a6b6a75ac9dd0f31e1c', point=Point(lng=-48.175128382568154, lat=-1.2911693096361807), size=9), Delivery(id='722aaff9ddae6eba559a47a58f8b5d00', point=Point(lng=-48.16092879105929, lat=-1.2977759328386895), size=7), Delivery(id='f80930f52884a3b101339fbb5e8e6428', point=Point(lng=-48.16317364001564, lat=-1.3004268204438936), size=3), Delivery(id='7b8c3bfe0a9c050e58131db86591fa37', point=Point(lng=-48.17561741146182, lat=-1.3000157473155571), size=2), Delivery(id='53d9a9059130d81a24ebcce2b2d27c8f', point=Point(lng=-48.15723531161162, lat=-1.2992426492983524), size=1), Delivery(id='55f28c9353963ea0d297c2d90cb4dbf8', point=Point(lng=-48.15829461017775, lat=-1.2975118416203975), size=8), Delivery(id='8e539e1f7c412627824cd1871c2070d5', point=Point(lng=-48.16079260365565, lat=-1.2977492196050813), size=2), Delivery(id='f5a887b6cd2479265e7332dc845296aa', point=Point(lng=-48.16136420227236, lat=-1.296427488358466), size=7), Delivery(id='74688c7fc900d231c2ccd3a3a36282f6', point=Point(lng=-48.16275495583706, lat=-1.3128447689224265), size=9), Delivery(id='4b6138c7c4496af1ac9a965ebcdf6f36', point=Point(lng=-48.155341500560084, lat=-1.3127387092692482), size=6), Delivery(id='1af4124ca66343b5558228ab924ea33e', point=Point(lng=-48.158927771127786, lat=-1.2974716542494857), size=1), Delivery(id='94a14be04e18a59b145dfa91a736261d', point=Point(lng=-48.161434039063344, lat=-1.2986463433454691), size=10), Delivery(id='2bff65bffdcb7301281df60d432395d6', point=Point(lng=-48.170043841679295, lat=-1.3035573121217887), size=1), Delivery(id='94e3076b207f77452979e60624b2104', point=Point(lng=-48.17090104590078, lat=-1.3026106614877773), size=8), Delivery(id='af5ac5d9341c8cc5713f0974778e82c8', point=Point(lng=-48.15694671227329, lat=-1.299289701902625), size=9), Delivery(id='f3752e03d9389cf779908c4ecf4e18a4', point=Point(lng=-48.161665839334134, lat=-1.2987510854906492), size=2), Delivery(id='e7deff4a956fd5d3c2620c2da4df9cd7', point=Point(lng=-48.16351972771565, lat=-1.3059489975348446), size=10), Delivery(id='dc8e15a83d98c64dbb744a1a6ea8d72d', point=Point(lng=-48.17025906908455, lat=-1.3055767394992206), size=1), Delivery(id='ff99945c7bcc8ef6850f5da9ec78dde7', point=Point(lng=-48.16842241390889, lat=-1.2996734198776638), size=2), Delivery(id='d671a4cea5c18daddd5ad0aa3bf6b92e', point=Point(lng=-48.15868667473346, lat=-1.2985932539820948), size=7), Delivery(id='dc2ec136fa6f79f161f13c9d15477268', point=Point(lng=-48.16033219974341, lat=-1.305349633859833), size=3), Delivery(id='b411fa86b58ff0d6b201617e765dd0c1', point=Point(lng=-48.15810108957976, lat=-1.3034180076941388), size=1), Delivery(id='1a889aa8baa5553735989ed3db304e3', point=Point(lng=-48.168137267145205, lat=-1.2982033293909954), size=9), Delivery(id='9e504b1379858744553cbec83617a15a', point=Point(lng=-47.939252543717814, lat=-1.2937770627998895), size=1), Delivery(id='964e58441c6a29582ea69438c5a56d95', point=Point(lng=-47.92648592014663, lat=-1.2916591280908392), size=8), Delivery(id='c0455803fe6b38967b091b42f2de355f', point=Point(lng=-47.932017479201306, lat=-1.299058549153221), size=2), Delivery(id='814e70c6e5f74e0dd1092ee1d78ba7e2', point=Point(lng=-47.93622677782207, lat=-1.2954003909997776), size=3), Delivery(id='56f5a209168fd38256716e7d6653f96e', point=Point(lng=-47.931395618486604, lat=-1.2936458099678227), size=5), Delivery(id='1ff42c0e96d80cd77d14b4ff927a45f8', point=Point(lng=-47.92710051309336, lat=-1.2951628533809239), size=10), Delivery(id='8b0d834f12ab862ae20d1a8a0990e85e', point=Point(lng=-47.93878291930352, lat=-1.2883547187779913), size=4), Delivery(id='92fd4377e818169e5e8b895fc74a750c', point=Point(lng=-47.940831208958386, lat=-1.298129667179927), size=10), Delivery(id='afc239f42d7d5a6b83bdf11ecf8f8006', point=Point(lng=-47.93991278047227, lat=-1.2924941132759735), size=8), Delivery(id='85b9229ac48deee3b91eff103fb74665', point=Point(lng=-47.92958695819227, lat=-1.2878147387478054), size=7), Delivery(id='5f646bb63159241fbdecea96448d558d', point=Point(lng=-47.92897110850922, lat=-1.2921196205892755), size=10), Delivery(id='77afb55d8dc36eaf1ce994834154a289', point=Point(lng=-47.92837977793454, lat=-1.2887636581988975), size=1), Delivery(id='777667fec3474b4dd9cce566423b94d7', point=Point(lng=-47.938137030720135, lat=-1.2906435634556954), size=10), Delivery(id='a067dd6b534b660b518ab8a5327f2bfc', point=Point(lng=-47.93100261292688, lat=-1.2933714450831886), size=1), Delivery(id='e7dd1d2d17c4762392a2058666040125', point=Point(lng=-47.9362313086767, lat=-1.2916283820262116), size=2), Delivery(id='32d2e9ae9997c2ed26eb80dddfce95b', point=Point(lng=-47.9315685148024, lat=-1.2891902964202895), size=3), Delivery(id='68878d6df33b2c97162980ee8da9ccc6', point=Point(lng=-47.93181123129008, lat=-1.2912690995690872), size=4), Delivery(id='aee8e910e3a796a2250bb82816731da2', point=Point(lng=-47.94032760787684, lat=-1.2942460970502705), size=10), Delivery(id='ce4f3b2b2eb0207bd311e866a7e5dd99', point=Point(lng=-47.93645464968254, lat=-1.290459638351206), size=5), Delivery(id='829a43e3a32dd1fb1d5b5b0b395b71cb', point=Point(lng=-47.925988784248055, lat=-1.2943749480576145), size=3), Delivery(id='68878d6df33b2c97162980ee8da9ccc6', point=Point(lng=-47.93181123129008, lat=-1.2912690995690872), size=4), Delivery(id='53365c3b42b8ebd8381dd1443669db41', point=Point(lng=-47.93735334320534, lat=-1.298950331482041), size=2), Delivery(id='1d4228cdc6373d746516661def0c268e', point=Point(lng=-47.92920175663135, lat=-1.2908275063114618), size=6), Delivery(id='87a979245101de872b5bea315fb7494', point=Point(lng=-47.93358668345995, lat=-1.2902272634684153), size=10), Delivery(id='e88bb488b248ca4d88f4f0392ea7d735', point=Point(lng=-47.93336939503835, lat=-1.2953622776040095), size=1), Delivery(id='743a3e0914deb907063eeeff91ffb04f', point=Point(lng=-47.93601893451269, lat=-1.2901040153425942), size=5), Delivery(id='235cf0ce0adc999177b63e533f14d3ed', point=Point(lng=-47.932731292700645, lat=-1.2947382315724776), size=3), Delivery(id='be0c1ead4c6cb11d173a22ff26e71bfd', point=Point(lng=-47.92925825538177, lat=-1.2882247275506666), size=6), Delivery(id='b0f0e187a20f2abad1eaf294dc58e141', point=Point(lng=-47.93246329915401, lat=-1.2899429612718434), size=10), Delivery(id='83df85d6dc116a1c251be66952c26665', point=Point(lng=-47.93828196800945, lat=-1.2926993823111104), size=10), Delivery(id='a430d95166211ed19d2a9d9aac55971f', point=Point(lng=-47.93865354519101, lat=-1.289175066477727), size=4), Delivery(id='e3993c9994801b9f565d119aaa291727', point=Point(lng=-47.93903904687477, lat=-1.292636071220661), size=9), Delivery(id='460b68ccdb4caa57359807fd464544aa', point=Point(lng=-47.96136967005002, lat=-1.2972394371142577), size=2), Delivery(id='a5af94e4d8b40a9d32ac9fee69324935', point=Point(lng=-47.94369335422622, lat=-1.2969500466413948), size=9), Delivery(id='f41fabfb8dffb1c03b0e28e285beb241', point=Point(lng=-47.94884810755425, lat=-1.2891191574549024), size=10), Delivery(id='1b386e8682dff9014423564470695dc9', point=Point(lng=-47.94332358033109, lat=-1.2869956094196389), size=1), Delivery(id='292f4159bb6d465b39084ad5ff5f0558', point=Point(lng=-47.942829045508155, lat=-1.2972816408743686), size=7), Delivery(id='ddcc92c2901774d36fd87c9dfd05816b', point=Point(lng=-47.9485409052025, lat=-1.281787740764642), size=6), Delivery(id='ee632b0676a5209328f365e04fe07888', point=Point(lng=-47.94653223937737, lat=-1.2883876444952296), size=4), Delivery(id='83ff63b68fad473ef0ad9e4e470a7788', point=Point(lng=-47.95110467451633, lat=-1.2881435304710287), size=7), Delivery(id='a5af94e4d8b40a9d32ac9fee69324935', point=Point(lng=-47.94369335422622, lat=-1.2969500466413948), size=9), Delivery(id='282243fd06b0bdff3a6b2e586a8354af', point=Point(lng=-47.94429230573988, lat=-1.2920736048386199), size=7), Delivery(id='a876810b33bd0b1ae8b202a5e4f85fe6', point=Point(lng=-47.94058211556939, lat=-1.2901408805917736), size=5), Delivery(id='3a05268fb56fc347b0a081b025840da2', point=Point(lng=-47.950470096930935, lat=-1.2900716862968917), size=1), Delivery(id='b4b507b2f35f1205ad25d117692dbcc9', point=Point(lng=-47.949661055895874, lat=-1.2810177365880686), size=8), Delivery(id='ce44135c457654b0ab7318815f19d2b7', point=Point(lng=-47.9399483315551, lat=-1.2843245048128673), size=10), Delivery(id='e98b3e59f39d929f29c85bb6624f2879', point=Point(lng=-47.94555789795139, lat=-1.292759254039114), size=7), Delivery(id='27f9744c94288a81641eeae7aca1e4a6', point=Point(lng=-47.94316055195199, lat=-1.2921079155761988), size=2), Delivery(id='27f9744c94288a81641eeae7aca1e4a6', point=Point(lng=-47.94316055195199, lat=-1.2921079155761988), size=2), Delivery(id='5fb38fe7807306d08cf852b4f5cfa88c', point=Point(lng=-47.9496567437926, lat=-1.2862961293136836), size=5), Delivery(id='ce1e30f336d0ca29e27afdbca2c58ce7', point=Point(lng=-47.960664535105735, lat=-1.3038608476472706), size=9), Delivery(id='c398482195edb1c6b88450974f19bb80', point=Point(lng=-47.95278768213076, lat=-1.288211755687198), size=7), Delivery(id='a90756bd0583a2758a21a4a2acff9b7c', point=Point(lng=-47.94228073948688, lat=-1.2947729564755883), size=2), Delivery(id='638f511ceda07764c0f730c7ba581fea', point=Point(lng=-47.947070264447085, lat=-1.282587488528116), size=1), Delivery(id='bb01bf707957b19fb5b65fa786dd175f', point=Point(lng=-47.94918875065425, lat=-1.279915904520338), size=5), Delivery(id='4dd8858161a5684f5305203b64c216ab', point=Point(lng=-47.93264444367445, lat=-1.2735186040738198), size=4), Delivery(id='915c577105aef4a9cefc31a17db399b3', point=Point(lng=-47.943238626276774, lat=-1.271162566172191), size=7), Delivery(id='82d48ba3f6fa0f1e13e0b1fb81acb64e', point=Point(lng=-47.934270805973085, lat=-1.2647741628192337), size=10), Delivery(id='ad5a351c37749fb824059c365353f99e', point=Point(lng=-47.94603524295089, lat=-1.280812595623233), size=1), Delivery(id='f50abc2ab0f2f47e564b2a0076440ce3', point=Point(lng=-47.94900785409539, lat=-1.2747145560378508), size=4), Delivery(id='729dbb7754ef157b8c51032bc9d5c337', point=Point(lng=-47.94648661370022, lat=-1.2654067797331423), size=6), Delivery(id='5b964bcb006f5158a90a3ac985e2db39', point=Point(lng=-47.94539551711134, lat=-1.218400614503276), size=4), Delivery(id='ddb36a83a5b49de154808fae0c612095', point=Point(lng=-47.94615001613649, lat=-1.2754072760344053), size=1), Delivery(id='e4fced91b2aa9f0f28a42adc324cd020', point=Point(lng=-47.948381432893875, lat=-1.276937414608664), size=3), Delivery(id='886a7032541a78940ac926b7b7c74d9', point=Point(lng=-47.94681186652675, lat=-1.2771879906267118), size=7), Delivery(id='3e18b9be66a672c6783ceddecff108ce', point=Point(lng=-47.933164581695785, lat=-1.271929647950998), size=4), Delivery(id='2a82d326fae213a6f921f87fad3a83b2', point=Point(lng=-47.947821176692045, lat=-1.278941987593539), size=2), Delivery(id='f4cd490fb5e714a512c4f710bee08695', point=Point(lng=-47.741977156161404, lat=-1.3675496695442397), size=4), Delivery(id='b2f6b2b41051477efd4513c1ee016424', point=Point(lng=-47.67083646618784, lat=-1.455706159035517), size=1), Delivery(id='c94def70c0b5316f28ef7cfe6e56065d', point=Point(lng=-47.881763974515195, lat=-1.2238504817334044), size=2), Delivery(id='194f7a8b050d52e16d510f68d911343b', point=Point(lng=-47.90543007071988, lat=-1.2745609732161827), size=7), Delivery(id='8024fb2ac2b97688b47313dfdef4856c', point=Point(lng=-47.91284465355945, lat=-1.27616102300159), size=3), Delivery(id='8bc54d33a93dcf5886652b6367a7ee46', point=Point(lng=-47.90358123817757, lat=-1.2753348540630005), size=8), Delivery(id='211ffc6a07d23ed5f8aab24273d895d0', point=Point(lng=-47.91329571826656, lat=-1.2752505513063443), size=8), Delivery(id='c21b2af4a676881176b993e0338b28c6', point=Point(lng=-47.89834090216512, lat=-1.2629946412972202), size=10), Delivery(id='5b252c43b9a48ee46f6eb19295e8c60f', point=Point(lng=-47.89977430839765, lat=-1.2703389566315593), size=8), Delivery(id='301a6f2ce420ab54495fb7d7db4b0c86', point=Point(lng=-47.90968804648606, lat=-1.2842925527628752), size=6), Delivery(id='de87c322a14475db70e41306af281e44', point=Point(lng=-47.83608100645613, lat=-1.2157583736023534), size=7), Delivery(id='430e286f19fa45da6d0a18d906dad025', point=Point(lng=-47.89124785326607, lat=-1.2767089770981255), size=1), Delivery(id='faa7d6a8933540a81552a7420958f104', point=Point(lng=-47.90529121169022, lat=-1.2737198603892623), size=10), Delivery(id='aa0d7f8637271c51652507c92d220d28', point=Point(lng=-48.156347498404386, lat=-1.2952395329757338), size=3), Delivery(id='cb9b863ec669e381f6e4da389925bec8', point=Point(lng=-48.15594674516236, lat=-1.2979123512540889), size=8), Delivery(id='f94303712cefe2add9846bfc9f21ac0a', point=Point(lng=-48.147638626051325, lat=-1.29686080923689), size=2), Delivery(id='dd1f9d6c9a3816cb0d3be6dbe2dc0f81', point=Point(lng=-48.15929837732517, lat=-1.283076768304243), size=5), Delivery(id='2a4e00b574fcca86d9e3ffe66b30469f', point=Point(lng=-48.155283301996256, lat=-1.2996932383858786), size=1), Delivery(id='9a14e0ddaa8a57876fea03503e117108', point=Point(lng=-48.16356813832697, lat=-1.2837417493997758), size=8), Delivery(id='21dacc7c0d888f5112f6e9dd723c026c', point=Point(lng=-48.152176708778235, lat=-1.2970620627415568), size=1), Delivery(id='785accdfbfc062aa844fad625521cf82', point=Point(lng=-48.141813649707736, lat=-1.2897660272890352), size=7), Delivery(id='9f5fb3c262fa44381c64e4b029bddd27', point=Point(lng=-47.9731723761718, lat=-1.2880847175194496), size=4), Delivery(id='e776ea18ee3e7cc99d3c80789b1a572f', point=Point(lng=-47.95598965817382, lat=-1.2800563310424569), size=9), Delivery(id='113141185115fb5fd55ec15e32e1f8e2', point=Point(lng=-47.95455233034448, lat=-1.2844828967901842), size=8), Delivery(id='f4ab84befd31256fdf8388077f83b563', point=Point(lng=-47.95682498102997, lat=-1.2797516169642054), size=10)])"
            ]
          },
          "metadata": {},
          "execution_count": 10
        }
      ]
    },
    {
      "cell_type": "markdown",
      "source": [
        "Agora o objeto *problem* pertence à classe CVRPInstance, que contém os atributos:\n",
        "\n",
        "\n",
        "```\n",
        "class CVRPInstance:\n",
        "  name: str\n",
        "  region: str\n",
        "  origin: Point\n",
        "  vehicle_capacity: int\n",
        "  deliveries: Lis[Delivery]\n",
        "```\n",
        "\n"
      ],
      "metadata": {
        "id": "Y2Pzq6HIfVOY"
      }
    },
    {
      "cell_type": "code",
      "source": [
        "print(f\"Capacidade do veículo: {problem.vehicle_capacity}\")\n",
        "print(f\"Ponto de partida: {problem.origin}\")\n",
        "print(f\"Total de entregas para a instância: {len(problem.deliveries)}\")\n"
      ],
      "metadata": {
        "colab": {
          "base_uri": "https://localhost:8080/"
        },
        "id": "Q21NuQ_edNCG",
        "outputId": "a2d33d98-1d7c-4d5b-dddc-fd65f90f53a1"
      },
      "execution_count": 13,
      "outputs": [
        {
          "output_type": "stream",
          "name": "stdout",
          "text": [
            "Capacidade do veículo: 180\n",
            "Ponto de partida: Point(lng=-47.93317089927402, lat=-1.2923387357484621)\n",
            "Total de entregas para a instância: 297\n"
          ]
        }
      ]
    }
  ]
}